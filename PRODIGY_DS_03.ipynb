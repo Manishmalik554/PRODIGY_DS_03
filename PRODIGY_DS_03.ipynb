{
 "cells": [
  {
   "cell_type": "markdown",
   "id": "db7bc049-26f9-46ea-b289-776d61ca1a08",
   "metadata": {},
   "source": [
    "# Task-03"
   ]
  },
  {
   "cell_type": "markdown",
   "id": "fdef545b-f4d0-41b4-bf40-2bdc0d50b4cb",
   "metadata": {},
   "source": [
    "## Build a decision tree classifier to predict whether a customer will purchase a product or service based on their demographic and behavioral data. Use a dataset such as the Bank Marketing dataset from the UCI Machine Learning Repository."
   ]
  },
  {
   "cell_type": "code",
   "execution_count": null,
   "id": "0d42f8f7-7425-4cbc-9f0b-f3d727c811e8",
   "metadata": {},
   "outputs": [],
   "source": []
  },
  {
   "cell_type": "markdown",
   "id": "5a7fb739-3e6f-45d3-86fc-f7aa697b59fe",
   "metadata": {},
   "source": [
    "## Linkedin Link-\n",
    "[Connect with me on LinkedIn](https://www.linkedin.com/in/manishmalik554)"
   ]
  },
  {
   "cell_type": "code",
   "execution_count": null,
   "id": "123ca999-8dbb-43bc-a966-08e841149b1e",
   "metadata": {},
   "outputs": [],
   "source": []
  },
  {
   "cell_type": "markdown",
   "id": "516b7364-dcdd-4749-b66d-081ebd507529",
   "metadata": {},
   "source": [
    "## Importing Libraries"
   ]
  },
  {
   "cell_type": "code",
   "execution_count": 1,
   "id": "bf432c9f-2297-4f85-8193-33ce60e835f6",
   "metadata": {},
   "outputs": [],
   "source": [
    "import pandas as pd \n",
    "import numpy as np \n",
    "import matplotlib.pyplot as plt\n",
    "import seaborn as sns\n",
    "from sklearn.model_selection import train_test_split\n",
    "from sklearn import metrics \n",
    "from sklearn.model_selection import GridSearchCV\n",
    "from sklearn.tree import plot_tree\n",
    "from sklearn.tree import DecisionTreeClassifier"
   ]
  },
  {
   "cell_type": "code",
   "execution_count": null,
   "id": "7c65d148-3963-46e8-9d90-e7944b5b26a3",
   "metadata": {},
   "outputs": [],
   "source": []
  },
  {
   "cell_type": "markdown",
   "id": "c49a8769-7771-4498-a1a9-77b2d2544fe0",
   "metadata": {},
   "source": [
    "### Load the Dataset"
   ]
  },
  {
   "cell_type": "code",
   "execution_count": 2,
   "id": "57c92f2d-5857-41f0-a0eb-e984b9491746",
   "metadata": {},
   "outputs": [
    {
     "data": {
      "text/html": [
       "<div>\n",
       "<style scoped>\n",
       "    .dataframe tbody tr th:only-of-type {\n",
       "        vertical-align: middle;\n",
       "    }\n",
       "\n",
       "    .dataframe tbody tr th {\n",
       "        vertical-align: top;\n",
       "    }\n",
       "\n",
       "    .dataframe thead th {\n",
       "        text-align: right;\n",
       "    }\n",
       "</style>\n",
       "<table border=\"1\" class=\"dataframe\">\n",
       "  <thead>\n",
       "    <tr style=\"text-align: right;\">\n",
       "      <th></th>\n",
       "      <th>age</th>\n",
       "      <th>job</th>\n",
       "      <th>marital</th>\n",
       "      <th>education</th>\n",
       "      <th>default</th>\n",
       "      <th>balance</th>\n",
       "      <th>housing</th>\n",
       "      <th>loan</th>\n",
       "      <th>contact</th>\n",
       "      <th>day</th>\n",
       "      <th>month</th>\n",
       "      <th>duration</th>\n",
       "      <th>campaign</th>\n",
       "      <th>pdays</th>\n",
       "      <th>previous</th>\n",
       "      <th>poutcome</th>\n",
       "      <th>y</th>\n",
       "    </tr>\n",
       "  </thead>\n",
       "  <tbody>\n",
       "    <tr>\n",
       "      <th>0</th>\n",
       "      <td>58</td>\n",
       "      <td>management</td>\n",
       "      <td>married</td>\n",
       "      <td>tertiary</td>\n",
       "      <td>no</td>\n",
       "      <td>2143</td>\n",
       "      <td>yes</td>\n",
       "      <td>no</td>\n",
       "      <td>unknown</td>\n",
       "      <td>5</td>\n",
       "      <td>may</td>\n",
       "      <td>261</td>\n",
       "      <td>1</td>\n",
       "      <td>-1</td>\n",
       "      <td>0</td>\n",
       "      <td>unknown</td>\n",
       "      <td>no</td>\n",
       "    </tr>\n",
       "    <tr>\n",
       "      <th>1</th>\n",
       "      <td>44</td>\n",
       "      <td>technician</td>\n",
       "      <td>single</td>\n",
       "      <td>secondary</td>\n",
       "      <td>no</td>\n",
       "      <td>29</td>\n",
       "      <td>yes</td>\n",
       "      <td>no</td>\n",
       "      <td>unknown</td>\n",
       "      <td>5</td>\n",
       "      <td>may</td>\n",
       "      <td>151</td>\n",
       "      <td>1</td>\n",
       "      <td>-1</td>\n",
       "      <td>0</td>\n",
       "      <td>unknown</td>\n",
       "      <td>no</td>\n",
       "    </tr>\n",
       "    <tr>\n",
       "      <th>2</th>\n",
       "      <td>33</td>\n",
       "      <td>entrepreneur</td>\n",
       "      <td>married</td>\n",
       "      <td>secondary</td>\n",
       "      <td>no</td>\n",
       "      <td>2</td>\n",
       "      <td>yes</td>\n",
       "      <td>yes</td>\n",
       "      <td>unknown</td>\n",
       "      <td>5</td>\n",
       "      <td>may</td>\n",
       "      <td>76</td>\n",
       "      <td>1</td>\n",
       "      <td>-1</td>\n",
       "      <td>0</td>\n",
       "      <td>unknown</td>\n",
       "      <td>no</td>\n",
       "    </tr>\n",
       "    <tr>\n",
       "      <th>3</th>\n",
       "      <td>47</td>\n",
       "      <td>blue-collar</td>\n",
       "      <td>married</td>\n",
       "      <td>unknown</td>\n",
       "      <td>no</td>\n",
       "      <td>1506</td>\n",
       "      <td>yes</td>\n",
       "      <td>no</td>\n",
       "      <td>unknown</td>\n",
       "      <td>5</td>\n",
       "      <td>may</td>\n",
       "      <td>92</td>\n",
       "      <td>1</td>\n",
       "      <td>-1</td>\n",
       "      <td>0</td>\n",
       "      <td>unknown</td>\n",
       "      <td>no</td>\n",
       "    </tr>\n",
       "    <tr>\n",
       "      <th>4</th>\n",
       "      <td>33</td>\n",
       "      <td>unknown</td>\n",
       "      <td>single</td>\n",
       "      <td>unknown</td>\n",
       "      <td>no</td>\n",
       "      <td>1</td>\n",
       "      <td>no</td>\n",
       "      <td>no</td>\n",
       "      <td>unknown</td>\n",
       "      <td>5</td>\n",
       "      <td>may</td>\n",
       "      <td>198</td>\n",
       "      <td>1</td>\n",
       "      <td>-1</td>\n",
       "      <td>0</td>\n",
       "      <td>unknown</td>\n",
       "      <td>no</td>\n",
       "    </tr>\n",
       "  </tbody>\n",
       "</table>\n",
       "</div>"
      ],
      "text/plain": [
       "   age           job  marital  education default  balance housing loan  \\\n",
       "0   58    management  married   tertiary      no     2143     yes   no   \n",
       "1   44    technician   single  secondary      no       29     yes   no   \n",
       "2   33  entrepreneur  married  secondary      no        2     yes  yes   \n",
       "3   47   blue-collar  married    unknown      no     1506     yes   no   \n",
       "4   33       unknown   single    unknown      no        1      no   no   \n",
       "\n",
       "   contact  day month  duration  campaign  pdays  previous poutcome   y  \n",
       "0  unknown    5   may       261         1     -1         0  unknown  no  \n",
       "1  unknown    5   may       151         1     -1         0  unknown  no  \n",
       "2  unknown    5   may        76         1     -1         0  unknown  no  \n",
       "3  unknown    5   may        92         1     -1         0  unknown  no  \n",
       "4  unknown    5   may       198         1     -1         0  unknown  no  "
      ]
     },
     "execution_count": 2,
     "metadata": {},
     "output_type": "execute_result"
    }
   ],
   "source": [
    "bank_data = pd.read_csv(r'E:\\Prodigy Projects Dataset\\PRODIGY_DS_03\\bank-full.csv')\n",
    "bank_data.head()"
   ]
  },
  {
   "cell_type": "code",
   "execution_count": 3,
   "id": "058d842a-5f30-43c0-8c18-e0f8cd426879",
   "metadata": {},
   "outputs": [
    {
     "data": {
      "text/plain": [
       "(45211, 17)"
      ]
     },
     "execution_count": 3,
     "metadata": {},
     "output_type": "execute_result"
    }
   ],
   "source": [
    "bank_data.shape"
   ]
  },
  {
   "cell_type": "code",
   "execution_count": 82,
   "id": "cfd3a5b5-46dc-4d5a-9b81-4b9691161f5a",
   "metadata": {},
   "outputs": [
    {
     "data": {
      "text/html": [
       "<div>\n",
       "<style scoped>\n",
       "    .dataframe tbody tr th:only-of-type {\n",
       "        vertical-align: middle;\n",
       "    }\n",
       "\n",
       "    .dataframe tbody tr th {\n",
       "        vertical-align: top;\n",
       "    }\n",
       "\n",
       "    .dataframe thead th {\n",
       "        text-align: right;\n",
       "    }\n",
       "</style>\n",
       "<table border=\"1\" class=\"dataframe\">\n",
       "  <thead>\n",
       "    <tr style=\"text-align: right;\">\n",
       "      <th></th>\n",
       "      <th>age</th>\n",
       "      <th>job</th>\n",
       "      <th>marital</th>\n",
       "      <th>education</th>\n",
       "      <th>default</th>\n",
       "      <th>balance</th>\n",
       "      <th>housing</th>\n",
       "      <th>loan</th>\n",
       "      <th>contact</th>\n",
       "      <th>day</th>\n",
       "      <th>month</th>\n",
       "      <th>duration</th>\n",
       "      <th>campaign</th>\n",
       "      <th>pdays</th>\n",
       "      <th>previous</th>\n",
       "      <th>poutcome</th>\n",
       "      <th>y</th>\n",
       "    </tr>\n",
       "  </thead>\n",
       "  <tbody>\n",
       "    <tr>\n",
       "      <th>26846</th>\n",
       "      <td>56</td>\n",
       "      <td>technician</td>\n",
       "      <td>single</td>\n",
       "      <td>secondary</td>\n",
       "      <td>no</td>\n",
       "      <td>1437</td>\n",
       "      <td>yes</td>\n",
       "      <td>no</td>\n",
       "      <td>cellular</td>\n",
       "      <td>20</td>\n",
       "      <td>nov</td>\n",
       "      <td>367</td>\n",
       "      <td>8</td>\n",
       "      <td>-1</td>\n",
       "      <td>0</td>\n",
       "      <td>unknown</td>\n",
       "      <td>no</td>\n",
       "    </tr>\n",
       "    <tr>\n",
       "      <th>3661</th>\n",
       "      <td>31</td>\n",
       "      <td>admin.</td>\n",
       "      <td>single</td>\n",
       "      <td>secondary</td>\n",
       "      <td>no</td>\n",
       "      <td>0</td>\n",
       "      <td>yes</td>\n",
       "      <td>no</td>\n",
       "      <td>unknown</td>\n",
       "      <td>16</td>\n",
       "      <td>may</td>\n",
       "      <td>28</td>\n",
       "      <td>4</td>\n",
       "      <td>-1</td>\n",
       "      <td>0</td>\n",
       "      <td>unknown</td>\n",
       "      <td>no</td>\n",
       "    </tr>\n",
       "    <tr>\n",
       "      <th>17740</th>\n",
       "      <td>40</td>\n",
       "      <td>management</td>\n",
       "      <td>married</td>\n",
       "      <td>unknown</td>\n",
       "      <td>no</td>\n",
       "      <td>6</td>\n",
       "      <td>yes</td>\n",
       "      <td>no</td>\n",
       "      <td>cellular</td>\n",
       "      <td>29</td>\n",
       "      <td>jul</td>\n",
       "      <td>64</td>\n",
       "      <td>4</td>\n",
       "      <td>-1</td>\n",
       "      <td>0</td>\n",
       "      <td>unknown</td>\n",
       "      <td>no</td>\n",
       "    </tr>\n",
       "    <tr>\n",
       "      <th>2002</th>\n",
       "      <td>35</td>\n",
       "      <td>management</td>\n",
       "      <td>single</td>\n",
       "      <td>tertiary</td>\n",
       "      <td>no</td>\n",
       "      <td>123</td>\n",
       "      <td>yes</td>\n",
       "      <td>no</td>\n",
       "      <td>unknown</td>\n",
       "      <td>9</td>\n",
       "      <td>may</td>\n",
       "      <td>83</td>\n",
       "      <td>3</td>\n",
       "      <td>-1</td>\n",
       "      <td>0</td>\n",
       "      <td>unknown</td>\n",
       "      <td>no</td>\n",
       "    </tr>\n",
       "    <tr>\n",
       "      <th>10083</th>\n",
       "      <td>40</td>\n",
       "      <td>admin.</td>\n",
       "      <td>divorced</td>\n",
       "      <td>secondary</td>\n",
       "      <td>no</td>\n",
       "      <td>1967</td>\n",
       "      <td>yes</td>\n",
       "      <td>no</td>\n",
       "      <td>unknown</td>\n",
       "      <td>11</td>\n",
       "      <td>jun</td>\n",
       "      <td>363</td>\n",
       "      <td>1</td>\n",
       "      <td>-1</td>\n",
       "      <td>0</td>\n",
       "      <td>unknown</td>\n",
       "      <td>no</td>\n",
       "    </tr>\n",
       "  </tbody>\n",
       "</table>\n",
       "</div>"
      ],
      "text/plain": [
       "       age         job   marital  education default  balance housing loan  \\\n",
       "26846   56  technician    single  secondary      no     1437     yes   no   \n",
       "3661    31      admin.    single  secondary      no        0     yes   no   \n",
       "17740   40  management   married    unknown      no        6     yes   no   \n",
       "2002    35  management    single   tertiary      no      123     yes   no   \n",
       "10083   40      admin.  divorced  secondary      no     1967     yes   no   \n",
       "\n",
       "        contact  day month  duration  campaign  pdays  previous poutcome   y  \n",
       "26846  cellular   20   nov       367         8     -1         0  unknown  no  \n",
       "3661    unknown   16   may        28         4     -1         0  unknown  no  \n",
       "17740  cellular   29   jul        64         4     -1         0  unknown  no  \n",
       "2002    unknown    9   may        83         3     -1         0  unknown  no  \n",
       "10083   unknown   11   jun       363         1     -1         0  unknown  no  "
      ]
     },
     "execution_count": 82,
     "metadata": {},
     "output_type": "execute_result"
    }
   ],
   "source": [
    "# we will take sample and work on the sample dataset of this bank_data\n",
    "bank = bank_data.sample(10000, random_state = 77)\n",
    "bank.head()"
   ]
  },
  {
   "cell_type": "code",
   "execution_count": 5,
   "id": "c4a7a961-ddb2-43b1-bd7d-110dd1b43b11",
   "metadata": {},
   "outputs": [
    {
     "data": {
      "text/plain": [
       "(10000, 17)"
      ]
     },
     "execution_count": 5,
     "metadata": {},
     "output_type": "execute_result"
    }
   ],
   "source": [
    "bank.shape"
   ]
  },
  {
   "cell_type": "code",
   "execution_count": null,
   "id": "2278da80-a083-4cac-9c46-4db5fc65daf4",
   "metadata": {},
   "outputs": [],
   "source": []
  },
  {
   "cell_type": "code",
   "execution_count": 6,
   "id": "e76f3d67-405b-4018-a160-43c8a0a2e7e1",
   "metadata": {},
   "outputs": [
    {
     "data": {
      "text/plain": [
       "age          0\n",
       "job          0\n",
       "marital      0\n",
       "education    0\n",
       "default      0\n",
       "balance      0\n",
       "housing      0\n",
       "loan         0\n",
       "contact      0\n",
       "day          0\n",
       "month        0\n",
       "duration     0\n",
       "campaign     0\n",
       "pdays        0\n",
       "previous     0\n",
       "poutcome     0\n",
       "y            0\n",
       "dtype: int64"
      ]
     },
     "execution_count": 6,
     "metadata": {},
     "output_type": "execute_result"
    }
   ],
   "source": [
    "# checking the missing values, we have no missing values in this sample dataset\n",
    "bank.isnull().sum()  "
   ]
  },
  {
   "cell_type": "code",
   "execution_count": 7,
   "id": "ed03b9b9-e4c1-4d34-8f52-0d9e17004f30",
   "metadata": {},
   "outputs": [
    {
     "name": "stdout",
     "output_type": "stream",
     "text": [
      "<class 'pandas.core.frame.DataFrame'>\n",
      "Index: 10000 entries, 26846 to 30107\n",
      "Data columns (total 17 columns):\n",
      " #   Column     Non-Null Count  Dtype \n",
      "---  ------     --------------  ----- \n",
      " 0   age        10000 non-null  int64 \n",
      " 1   job        10000 non-null  object\n",
      " 2   marital    10000 non-null  object\n",
      " 3   education  10000 non-null  object\n",
      " 4   default    10000 non-null  object\n",
      " 5   balance    10000 non-null  int64 \n",
      " 6   housing    10000 non-null  object\n",
      " 7   loan       10000 non-null  object\n",
      " 8   contact    10000 non-null  object\n",
      " 9   day        10000 non-null  int64 \n",
      " 10  month      10000 non-null  object\n",
      " 11  duration   10000 non-null  int64 \n",
      " 12  campaign   10000 non-null  int64 \n",
      " 13  pdays      10000 non-null  int64 \n",
      " 14  previous   10000 non-null  int64 \n",
      " 15  poutcome   10000 non-null  object\n",
      " 16  y          10000 non-null  object\n",
      "dtypes: int64(7), object(10)\n",
      "memory usage: 1.4+ MB\n"
     ]
    }
   ],
   "source": [
    "# we will check the datatype of each column\n",
    "bank.info()"
   ]
  },
  {
   "cell_type": "code",
   "execution_count": null,
   "id": "d7d297b1-6a70-44e9-af45-adfbf00d852b",
   "metadata": {},
   "outputs": [],
   "source": []
  },
  {
   "cell_type": "markdown",
   "id": "1c6e5cca-0494-4079-a53f-e4305ebd5428",
   "metadata": {},
   "source": [
    "## EDA "
   ]
  },
  {
   "cell_type": "code",
   "execution_count": 8,
   "id": "b5adb37b-b8eb-4cb6-a2d2-01ffa2e03f0f",
   "metadata": {},
   "outputs": [],
   "source": [
    "### Checking the value counts and number of unique values each column contains "
   ]
  },
  {
   "cell_type": "code",
   "execution_count": 9,
   "id": "ba52a44b-6026-48db-b302-d7f2361d5a06",
   "metadata": {},
   "outputs": [],
   "source": [
    "#creating a function to check the unique values in the feasible columns \n",
    "def unique_values(data, col):     \n",
    "    x = data[col].value_counts()\n",
    "    unique_value = data[col].nunique()\n",
    "    print(f'number of unique values for \"{col}\" is {unique_value}.')\n",
    "    print(f'value_counts of \"{col}\" are:\\n{x}')\n",
    "    print('\\n')"
   ]
  },
  {
   "cell_type": "code",
   "execution_count": 10,
   "id": "3aea1c33-d5a1-4a68-b805-9fd1c908fea9",
   "metadata": {},
   "outputs": [
    {
     "data": {
      "text/plain": [
       "pdays\n",
       "-1      8172\n",
       " 92       31\n",
       " 182      30\n",
       " 183      26\n",
       " 181      24\n",
       "        ... \n",
       " 235       1\n",
       " 31        1\n",
       " 372       1\n",
       " 40        1\n",
       " 232       1\n",
       "Name: count, Length: 376, dtype: int64"
      ]
     },
     "execution_count": 10,
     "metadata": {},
     "output_type": "execute_result"
    }
   ],
   "source": [
    "bank['pdays'].value_counts()"
   ]
  },
  {
   "cell_type": "code",
   "execution_count": null,
   "id": "8761cfe6-59eb-4ba2-a178-a24368bddb64",
   "metadata": {},
   "outputs": [],
   "source": []
  },
  {
   "cell_type": "code",
   "execution_count": 11,
   "id": "3cb01321-cb45-49ac-9ad0-aef2fe8287b4",
   "metadata": {},
   "outputs": [
    {
     "data": {
      "text/html": [
       "<div>\n",
       "<style scoped>\n",
       "    .dataframe tbody tr th:only-of-type {\n",
       "        vertical-align: middle;\n",
       "    }\n",
       "\n",
       "    .dataframe tbody tr th {\n",
       "        vertical-align: top;\n",
       "    }\n",
       "\n",
       "    .dataframe thead th {\n",
       "        text-align: right;\n",
       "    }\n",
       "</style>\n",
       "<table border=\"1\" class=\"dataframe\">\n",
       "  <thead>\n",
       "    <tr style=\"text-align: right;\">\n",
       "      <th></th>\n",
       "      <th>job</th>\n",
       "      <th>marital</th>\n",
       "      <th>education</th>\n",
       "      <th>default</th>\n",
       "      <th>housing</th>\n",
       "      <th>loan</th>\n",
       "      <th>contact</th>\n",
       "      <th>month</th>\n",
       "      <th>poutcome</th>\n",
       "      <th>y</th>\n",
       "    </tr>\n",
       "  </thead>\n",
       "  <tbody>\n",
       "    <tr>\n",
       "      <th>26846</th>\n",
       "      <td>technician</td>\n",
       "      <td>single</td>\n",
       "      <td>secondary</td>\n",
       "      <td>no</td>\n",
       "      <td>yes</td>\n",
       "      <td>no</td>\n",
       "      <td>cellular</td>\n",
       "      <td>nov</td>\n",
       "      <td>unknown</td>\n",
       "      <td>no</td>\n",
       "    </tr>\n",
       "    <tr>\n",
       "      <th>3661</th>\n",
       "      <td>admin.</td>\n",
       "      <td>single</td>\n",
       "      <td>secondary</td>\n",
       "      <td>no</td>\n",
       "      <td>yes</td>\n",
       "      <td>no</td>\n",
       "      <td>unknown</td>\n",
       "      <td>may</td>\n",
       "      <td>unknown</td>\n",
       "      <td>no</td>\n",
       "    </tr>\n",
       "    <tr>\n",
       "      <th>17740</th>\n",
       "      <td>management</td>\n",
       "      <td>married</td>\n",
       "      <td>unknown</td>\n",
       "      <td>no</td>\n",
       "      <td>yes</td>\n",
       "      <td>no</td>\n",
       "      <td>cellular</td>\n",
       "      <td>jul</td>\n",
       "      <td>unknown</td>\n",
       "      <td>no</td>\n",
       "    </tr>\n",
       "    <tr>\n",
       "      <th>2002</th>\n",
       "      <td>management</td>\n",
       "      <td>single</td>\n",
       "      <td>tertiary</td>\n",
       "      <td>no</td>\n",
       "      <td>yes</td>\n",
       "      <td>no</td>\n",
       "      <td>unknown</td>\n",
       "      <td>may</td>\n",
       "      <td>unknown</td>\n",
       "      <td>no</td>\n",
       "    </tr>\n",
       "    <tr>\n",
       "      <th>10083</th>\n",
       "      <td>admin.</td>\n",
       "      <td>divorced</td>\n",
       "      <td>secondary</td>\n",
       "      <td>no</td>\n",
       "      <td>yes</td>\n",
       "      <td>no</td>\n",
       "      <td>unknown</td>\n",
       "      <td>jun</td>\n",
       "      <td>unknown</td>\n",
       "      <td>no</td>\n",
       "    </tr>\n",
       "  </tbody>\n",
       "</table>\n",
       "</div>"
      ],
      "text/plain": [
       "              job   marital  education default housing loan   contact month  \\\n",
       "26846  technician    single  secondary      no     yes   no  cellular   nov   \n",
       "3661       admin.    single  secondary      no     yes   no   unknown   may   \n",
       "17740  management   married    unknown      no     yes   no  cellular   jul   \n",
       "2002   management    single   tertiary      no     yes   no   unknown   may   \n",
       "10083      admin.  divorced  secondary      no     yes   no   unknown   jun   \n",
       "\n",
       "      poutcome   y  \n",
       "26846  unknown  no  \n",
       "3661   unknown  no  \n",
       "17740  unknown  no  \n",
       "2002   unknown  no  \n",
       "10083  unknown  no  "
      ]
     },
     "execution_count": 11,
     "metadata": {},
     "output_type": "execute_result"
    }
   ],
   "source": [
    "# selecting only object datatypes for the EDA\n",
    "obj_data = bank.select_dtypes(include = ['object'])\n",
    "obj_data.head()"
   ]
  },
  {
   "cell_type": "code",
   "execution_count": 12,
   "id": "e3ab24b9-4b4b-452c-b1ee-2df35f0524ec",
   "metadata": {},
   "outputs": [
    {
     "data": {
      "text/plain": [
       "['job',\n",
       " 'marital',\n",
       " 'education',\n",
       " 'default',\n",
       " 'housing',\n",
       " 'loan',\n",
       " 'contact',\n",
       " 'month',\n",
       " 'poutcome',\n",
       " 'y']"
      ]
     },
     "execution_count": 12,
     "metadata": {},
     "output_type": "execute_result"
    }
   ],
   "source": [
    "obj_data_col = list(obj_data.columns)\n",
    "obj_data_col"
   ]
  },
  {
   "cell_type": "code",
   "execution_count": 13,
   "id": "e4f16f4c-2999-476f-bbda-9c85c5a3bbdc",
   "metadata": {},
   "outputs": [
    {
     "name": "stdout",
     "output_type": "stream",
     "text": [
      "number of unique values for \"job\" is 12.\n",
      "value_counts of \"job\" are:\n",
      "job\n",
      "blue-collar      2103\n",
      "management       2096\n",
      "technician       1648\n",
      "admin.           1194\n",
      "services          912\n",
      "retired           481\n",
      "self-employed     375\n",
      "entrepreneur      339\n",
      "unemployed        283\n",
      "housemaid         282\n",
      "student           217\n",
      "unknown            70\n",
      "Name: count, dtype: int64\n",
      "\n",
      "\n",
      "number of unique values for \"marital\" is 3.\n",
      "value_counts of \"marital\" are:\n",
      "marital\n",
      "married     6044\n",
      "single      2828\n",
      "divorced    1128\n",
      "Name: count, dtype: int64\n",
      "\n",
      "\n",
      "number of unique values for \"education\" is 4.\n",
      "value_counts of \"education\" are:\n",
      "education\n",
      "secondary    5153\n",
      "tertiary     2943\n",
      "primary      1515\n",
      "unknown       389\n",
      "Name: count, dtype: int64\n",
      "\n",
      "\n",
      "number of unique values for \"default\" is 2.\n",
      "value_counts of \"default\" are:\n",
      "default\n",
      "no     9831\n",
      "yes     169\n",
      "Name: count, dtype: int64\n",
      "\n",
      "\n",
      "number of unique values for \"housing\" is 2.\n",
      "value_counts of \"housing\" are:\n",
      "housing\n",
      "yes    5523\n",
      "no     4477\n",
      "Name: count, dtype: int64\n",
      "\n",
      "\n",
      "number of unique values for \"loan\" is 2.\n",
      "value_counts of \"loan\" are:\n",
      "loan\n",
      "no     8338\n",
      "yes    1662\n",
      "Name: count, dtype: int64\n",
      "\n",
      "\n",
      "number of unique values for \"contact\" is 3.\n",
      "value_counts of \"contact\" are:\n",
      "contact\n",
      "cellular     6533\n",
      "unknown      2830\n",
      "telephone     637\n",
      "Name: count, dtype: int64\n",
      "\n",
      "\n",
      "number of unique values for \"month\" is 12.\n",
      "value_counts of \"month\" are:\n",
      "month\n",
      "may    2950\n",
      "jul    1523\n",
      "aug    1393\n",
      "jun    1212\n",
      "nov     891\n",
      "apr     659\n",
      "feb     617\n",
      "jan     324\n",
      "oct     159\n",
      "mar     113\n",
      "sep     109\n",
      "dec      50\n",
      "Name: count, dtype: int64\n",
      "\n",
      "\n",
      "number of unique values for \"poutcome\" is 4.\n",
      "value_counts of \"poutcome\" are:\n",
      "poutcome\n",
      "unknown    8173\n",
      "failure    1060\n",
      "other       437\n",
      "success     330\n",
      "Name: count, dtype: int64\n",
      "\n",
      "\n",
      "number of unique values for \"y\" is 2.\n",
      "value_counts of \"y\" are:\n",
      "y\n",
      "no     8827\n",
      "yes    1173\n",
      "Name: count, dtype: int64\n",
      "\n",
      "\n"
     ]
    }
   ],
   "source": [
    "for feature in obj_data_col:\n",
    "    unique_values(bank, feature)"
   ]
  },
  {
   "cell_type": "code",
   "execution_count": 14,
   "id": "2a1323b4-b851-4c9d-b26c-bb850baf8137",
   "metadata": {},
   "outputs": [],
   "source": [
    "# we will reduce the categories in the column 'job'\n",
    "bank[\"job\"]=bank[\"job\"].replace([\"management\", \"admin.\"], \"White-collar\")\n",
    "bank[\"job\"]=bank[\"job\"].replace([\"services\", \"housemaid\"], \"Pink-collar\")\n",
    "bank[\"job\"]=bank[\"job\"].replace([\"retired\", \"student\", \"unemployed\", \"unknown\"], \"Others\")\n",
    "bank[\"job\"]=bank[\"job\"].replace([\"self-employed\", \"entrepreneur\"], \"self-depend\")"
   ]
  },
  {
   "cell_type": "code",
   "execution_count": 15,
   "id": "f3945bbc-6f60-4355-b50e-c0f9e6a940ee",
   "metadata": {},
   "outputs": [
    {
     "data": {
      "text/plain": [
       "job\n",
       "White-collar    3290\n",
       "blue-collar     2103\n",
       "technician      1648\n",
       "Pink-collar     1194\n",
       "Others          1051\n",
       "self-depend      714\n",
       "Name: count, dtype: int64"
      ]
     },
     "execution_count": 15,
     "metadata": {},
     "output_type": "execute_result"
    }
   ],
   "source": [
    "bank['job'].value_counts()"
   ]
  },
  {
   "cell_type": "code",
   "execution_count": 16,
   "id": "ef0dd60b-27e6-4e12-bfe2-014a96c876cc",
   "metadata": {},
   "outputs": [
    {
     "data": {
      "text/html": [
       "<div>\n",
       "<style scoped>\n",
       "    .dataframe tbody tr th:only-of-type {\n",
       "        vertical-align: middle;\n",
       "    }\n",
       "\n",
       "    .dataframe tbody tr th {\n",
       "        vertical-align: top;\n",
       "    }\n",
       "\n",
       "    .dataframe thead th {\n",
       "        text-align: right;\n",
       "    }\n",
       "</style>\n",
       "<table border=\"1\" class=\"dataframe\">\n",
       "  <thead>\n",
       "    <tr style=\"text-align: right;\">\n",
       "      <th></th>\n",
       "      <th>age</th>\n",
       "      <th>job</th>\n",
       "      <th>marital</th>\n",
       "      <th>education</th>\n",
       "      <th>default</th>\n",
       "      <th>balance</th>\n",
       "      <th>housing</th>\n",
       "      <th>loan</th>\n",
       "      <th>contact</th>\n",
       "      <th>day</th>\n",
       "      <th>month</th>\n",
       "      <th>duration</th>\n",
       "      <th>campaign</th>\n",
       "      <th>pdays</th>\n",
       "      <th>previous</th>\n",
       "      <th>poutcome</th>\n",
       "      <th>y</th>\n",
       "    </tr>\n",
       "  </thead>\n",
       "  <tbody>\n",
       "    <tr>\n",
       "      <th>26846</th>\n",
       "      <td>56</td>\n",
       "      <td>technician</td>\n",
       "      <td>single</td>\n",
       "      <td>secondary</td>\n",
       "      <td>no</td>\n",
       "      <td>1437</td>\n",
       "      <td>yes</td>\n",
       "      <td>no</td>\n",
       "      <td>cellular</td>\n",
       "      <td>20</td>\n",
       "      <td>nov</td>\n",
       "      <td>367</td>\n",
       "      <td>8</td>\n",
       "      <td>-1</td>\n",
       "      <td>0</td>\n",
       "      <td>unknown</td>\n",
       "      <td>no</td>\n",
       "    </tr>\n",
       "    <tr>\n",
       "      <th>3661</th>\n",
       "      <td>31</td>\n",
       "      <td>White-collar</td>\n",
       "      <td>single</td>\n",
       "      <td>secondary</td>\n",
       "      <td>no</td>\n",
       "      <td>0</td>\n",
       "      <td>yes</td>\n",
       "      <td>no</td>\n",
       "      <td>unknown</td>\n",
       "      <td>16</td>\n",
       "      <td>may</td>\n",
       "      <td>28</td>\n",
       "      <td>4</td>\n",
       "      <td>-1</td>\n",
       "      <td>0</td>\n",
       "      <td>unknown</td>\n",
       "      <td>no</td>\n",
       "    </tr>\n",
       "  </tbody>\n",
       "</table>\n",
       "</div>"
      ],
      "text/plain": [
       "       age           job marital  education default  balance housing loan  \\\n",
       "26846   56    technician  single  secondary      no     1437     yes   no   \n",
       "3661    31  White-collar  single  secondary      no        0     yes   no   \n",
       "\n",
       "        contact  day month  duration  campaign  pdays  previous poutcome   y  \n",
       "26846  cellular   20   nov       367         8     -1         0  unknown  no  \n",
       "3661    unknown   16   may        28         4     -1         0  unknown  no  "
      ]
     },
     "execution_count": 16,
     "metadata": {},
     "output_type": "execute_result"
    }
   ],
   "source": [
    "bank.head(2)"
   ]
  },
  {
   "cell_type": "code",
   "execution_count": 17,
   "id": "5f1e8bf0-58f4-4e6a-84ff-586ec1a595bc",
   "metadata": {},
   "outputs": [
    {
     "data": {
      "text/plain": [
       "Index(['age', 'job', 'marital', 'education', 'default', 'balance', 'housing',\n",
       "       'loan', 'contact', 'day', 'month', 'duration', 'campaign', 'pdays',\n",
       "       'previous', 'poutcome', 'y'],\n",
       "      dtype='object')"
      ]
     },
     "execution_count": 17,
     "metadata": {},
     "output_type": "execute_result"
    }
   ],
   "source": [
    "bank.columns"
   ]
  },
  {
   "cell_type": "code",
   "execution_count": 18,
   "id": "4367845f-90bf-47e5-976d-5727de886687",
   "metadata": {},
   "outputs": [
    {
     "data": {
      "text/html": [
       "<div>\n",
       "<style scoped>\n",
       "    .dataframe tbody tr th:only-of-type {\n",
       "        vertical-align: middle;\n",
       "    }\n",
       "\n",
       "    .dataframe tbody tr th {\n",
       "        vertical-align: top;\n",
       "    }\n",
       "\n",
       "    .dataframe thead th {\n",
       "        text-align: right;\n",
       "    }\n",
       "</style>\n",
       "<table border=\"1\" class=\"dataframe\">\n",
       "  <thead>\n",
       "    <tr style=\"text-align: right;\">\n",
       "      <th></th>\n",
       "      <th>count</th>\n",
       "      <th>mean</th>\n",
       "      <th>std</th>\n",
       "      <th>min</th>\n",
       "      <th>1%</th>\n",
       "      <th>2%</th>\n",
       "      <th>3%</th>\n",
       "      <th>10%</th>\n",
       "      <th>30%</th>\n",
       "      <th>50%</th>\n",
       "      <th>80%</th>\n",
       "      <th>90%</th>\n",
       "      <th>98%</th>\n",
       "      <th>99%</th>\n",
       "      <th>max</th>\n",
       "    </tr>\n",
       "  </thead>\n",
       "  <tbody>\n",
       "    <tr>\n",
       "      <th>age</th>\n",
       "      <td>10000.0</td>\n",
       "      <td>40.8487</td>\n",
       "      <td>10.508751</td>\n",
       "      <td>18.0</td>\n",
       "      <td>23.00</td>\n",
       "      <td>25.00</td>\n",
       "      <td>26.0</td>\n",
       "      <td>29.0</td>\n",
       "      <td>34.0</td>\n",
       "      <td>39.0</td>\n",
       "      <td>51.0</td>\n",
       "      <td>56.0</td>\n",
       "      <td>62.00</td>\n",
       "      <td>70.00</td>\n",
       "      <td>93.0</td>\n",
       "    </tr>\n",
       "    <tr>\n",
       "      <th>balance</th>\n",
       "      <td>10000.0</td>\n",
       "      <td>1313.8934</td>\n",
       "      <td>2772.819577</td>\n",
       "      <td>-3372.0</td>\n",
       "      <td>-637.04</td>\n",
       "      <td>-440.06</td>\n",
       "      <td>-324.0</td>\n",
       "      <td>0.0</td>\n",
       "      <td>136.7</td>\n",
       "      <td>456.5</td>\n",
       "      <td>1815.0</td>\n",
       "      <td>3426.1</td>\n",
       "      <td>8991.22</td>\n",
       "      <td>12917.11</td>\n",
       "      <td>64343.0</td>\n",
       "    </tr>\n",
       "    <tr>\n",
       "      <th>duration</th>\n",
       "      <td>10000.0</td>\n",
       "      <td>258.0784</td>\n",
       "      <td>260.454182</td>\n",
       "      <td>2.0</td>\n",
       "      <td>12.00</td>\n",
       "      <td>17.00</td>\n",
       "      <td>22.0</td>\n",
       "      <td>60.0</td>\n",
       "      <td>117.0</td>\n",
       "      <td>178.0</td>\n",
       "      <td>368.0</td>\n",
       "      <td>541.0</td>\n",
       "      <td>1077.02</td>\n",
       "      <td>1297.06</td>\n",
       "      <td>3785.0</td>\n",
       "    </tr>\n",
       "    <tr>\n",
       "      <th>campaign</th>\n",
       "      <td>10000.0</td>\n",
       "      <td>2.7273</td>\n",
       "      <td>2.933223</td>\n",
       "      <td>1.0</td>\n",
       "      <td>1.00</td>\n",
       "      <td>1.00</td>\n",
       "      <td>1.0</td>\n",
       "      <td>1.0</td>\n",
       "      <td>1.0</td>\n",
       "      <td>2.0</td>\n",
       "      <td>4.0</td>\n",
       "      <td>5.0</td>\n",
       "      <td>11.00</td>\n",
       "      <td>16.00</td>\n",
       "      <td>63.0</td>\n",
       "    </tr>\n",
       "  </tbody>\n",
       "</table>\n",
       "</div>"
      ],
      "text/plain": [
       "            count       mean          std     min      1%      2%     3%  \\\n",
       "age       10000.0    40.8487    10.508751    18.0   23.00   25.00   26.0   \n",
       "balance   10000.0  1313.8934  2772.819577 -3372.0 -637.04 -440.06 -324.0   \n",
       "duration  10000.0   258.0784   260.454182     2.0   12.00   17.00   22.0   \n",
       "campaign  10000.0     2.7273     2.933223     1.0    1.00    1.00    1.0   \n",
       "\n",
       "           10%    30%    50%     80%     90%      98%       99%      max  \n",
       "age       29.0   34.0   39.0    51.0    56.0    62.00     70.00     93.0  \n",
       "balance    0.0  136.7  456.5  1815.0  3426.1  8991.22  12917.11  64343.0  \n",
       "duration  60.0  117.0  178.0   368.0   541.0  1077.02   1297.06   3785.0  \n",
       "campaign   1.0    1.0    2.0     4.0     5.0    11.00     16.00     63.0  "
      ]
     },
     "execution_count": 18,
     "metadata": {},
     "output_type": "execute_result"
    }
   ],
   "source": [
    "col = ['age', 'balance', 'duration', 'campaign']\n",
    "bank[col].describe(percentiles = [0.01, 0.02, 0.03, .1, .3, .5, .8, .9, .98, .99]).T"
   ]
  },
  {
   "cell_type": "code",
   "execution_count": null,
   "id": "031f4181-fee7-4105-9019-5550021e2167",
   "metadata": {},
   "outputs": [],
   "source": []
  },
  {
   "cell_type": "code",
   "execution_count": 19,
   "id": "c490ceba-8e56-477e-bcb1-d813cf110343",
   "metadata": {},
   "outputs": [
    {
     "data": {
      "text/plain": [
       "Chi2ContingencyResult(statistic=248.99624545179304, pvalue=8.533993207025566e-55, dof=2, expected_freq=array([[5766.6791,  562.2799, 2498.041 ],\n",
       "       [ 766.3209,   74.7201,  331.959 ]]))"
      ]
     },
     "execution_count": 19,
     "metadata": {},
     "output_type": "execute_result"
    }
   ],
   "source": [
    "#checking the correlation between the bivariates\n",
    "\n",
    "# If p is low ; null will go  (<0.05 )\n",
    "# if p is high ; null will fly\n",
    "# Chi2 : Null Hypothesis : There is no relationship between Var\n",
    "#         Alter Hypothesis : There is a relationship between Var\n",
    "\n",
    "crs_tab1 = pd.crosstab(bank['y'], bank['contact'])\n",
    "from scipy import stats\n",
    "stats.chi2_contingency(crs_tab1)\n",
    "# it means there is a relation between 'contact' and 'y' target variable"
   ]
  },
  {
   "cell_type": "code",
   "execution_count": 20,
   "id": "40677fe2-22dd-4385-9f60-988af3ec24d7",
   "metadata": {},
   "outputs": [
    {
     "data": {
      "text/plain": [
       "Chi2ContingencyResult(statistic=841.5189499326739, pvalue=2.2931695449508316e-173, dof=11, expected_freq=array([[ 581.6993, 1229.6011,   44.135 ,  544.6259,  285.9948, 1344.3521,\n",
       "        1069.8324,   99.7451, 2603.965 ,  786.4857,  140.3493,   96.2143],\n",
       "       [  77.3007,  163.3989,    5.865 ,   72.3741,   38.0052,  178.6479,\n",
       "         142.1676,   13.2549,  346.035 ,  104.5143,   18.6507,   12.7857]]))"
      ]
     },
     "execution_count": 20,
     "metadata": {},
     "output_type": "execute_result"
    }
   ],
   "source": [
    "crs_tab2 = pd.crosstab(bank['y'], bank['month'])\n",
    "stats.chi2_contingency(crs_tab2)\n",
    "# 'month' and 'y' are correlated "
   ]
  },
  {
   "cell_type": "code",
   "execution_count": 21,
   "id": "365e98c6-8c55-4874-93db-cbd06aae8abd",
   "metadata": {},
   "outputs": [
    {
     "data": {
      "text/plain": [
       "Chi2ContingencyResult(statistic=897.6482276933361, pvalue=2.865102538361706e-194, dof=3, expected_freq=array([[ 935.662 ,  385.7399,  291.291 , 7214.3071],\n",
       "       [ 124.338 ,   51.2601,   38.709 ,  958.6929]]))"
      ]
     },
     "execution_count": 21,
     "metadata": {},
     "output_type": "execute_result"
    }
   ],
   "source": [
    "crs_tab3 = pd.crosstab(bank['y'], bank['poutcome'])\n",
    "stats.chi2_contingency(crs_tab3)\n",
    "# 'poutcome' and 'y' target variable are correlated "
   ]
  },
  {
   "cell_type": "code",
   "execution_count": 22,
   "id": "d2941460-72d1-44f8-837f-dce53a72b328",
   "metadata": {},
   "outputs": [
    {
     "data": {
      "text/plain": [
       "Chi2ContingencyResult(statistic=56.82134157099188, pvalue=2.8057512233994525e-12, dof=3, expected_freq=array([[1337.2905, 4548.5531, 2597.7861,  343.3703],\n",
       "       [ 177.7095,  604.4469,  345.2139,   45.6297]]))"
      ]
     },
     "execution_count": 22,
     "metadata": {},
     "output_type": "execute_result"
    }
   ],
   "source": [
    "crs_tab4 = pd.crosstab(bank['y'], bank['education'])\n",
    "stats.chi2_contingency(crs_tab4)\n",
    "# \"education\" and 'y' target variable are correlated"
   ]
  },
  {
   "cell_type": "code",
   "execution_count": null,
   "id": "c0b1f83a-f2e2-49bf-899b-693772774b15",
   "metadata": {},
   "outputs": [],
   "source": []
  },
  {
   "cell_type": "code",
   "execution_count": null,
   "id": "deebe2db-2d47-464a-ae90-02950225720c",
   "metadata": {},
   "outputs": [],
   "source": []
  },
  {
   "cell_type": "code",
   "execution_count": 23,
   "id": "ada83051-9cbb-4abb-90e0-8710b5c5be9e",
   "metadata": {},
   "outputs": [
    {
     "data": {
      "image/png": "[encoded data removed]",
      "text/plain": [
       "<Figure size 640x480 with 1 Axes>"
      ]
     },
     "metadata": {},
     "output_type": "display_data"
    }
   ],
   "source": [
    "sns.regplot(data = bank, x = 'age', y = 'balance')\n",
    "plt.title('Relation between Age and Balance')\n",
    "plt.show()"
   ]
  },
  {
   "cell_type": "code",
   "execution_count": 24,
   "id": "336111da-5774-4570-a899-84ad4532e3b2",
   "metadata": {},
   "outputs": [
    {
     "data": {
      "image/png": "[encoded data removed]",
      "text/plain": [
       "<Figure size 640x480 with 1 Axes>"
      ]
     },
     "metadata": {},
     "output_type": "display_data"
    }
   ],
   "source": [
    "sns.regplot(data = bank, x = 'age', y = 'duration')\n",
    "plt.title('Relation between Age and Balance')\n",
    "plt.show()"
   ]
  },
  {
   "cell_type": "code",
   "execution_count": 25,
   "id": "4784972b-e1e9-4e3b-a231-df9d2581b5ba",
   "metadata": {},
   "outputs": [
    {
     "data": {
      "text/plain": [
       "Index(['age', 'job', 'marital', 'education', 'default', 'balance', 'housing',\n",
       "       'loan', 'contact', 'day', 'month', 'duration', 'campaign', 'pdays',\n",
       "       'previous', 'poutcome', 'y'],\n",
       "      dtype='object')"
      ]
     },
     "execution_count": 25,
     "metadata": {},
     "output_type": "execute_result"
    }
   ],
   "source": [
    "bank.columns"
   ]
  },
  {
   "cell_type": "code",
   "execution_count": null,
   "id": "52a3a115-524d-44f3-9710-702ce986ceca",
   "metadata": {},
   "outputs": [],
   "source": []
  },
  {
   "cell_type": "code",
   "execution_count": null,
   "id": "6e89666a-8ef0-4a05-88f0-5bab39e2dde8",
   "metadata": {},
   "outputs": [],
   "source": []
  },
  {
   "cell_type": "markdown",
   "id": "d461d23d-f138-4fe3-b4cd-79c204e23bd4",
   "metadata": {},
   "source": [
    "## Feature Engineering "
   ]
  },
  {
   "cell_type": "code",
   "execution_count": 26,
   "id": "472abc7b-1873-4124-9d7c-4aabc7c6acb9",
   "metadata": {},
   "outputs": [
    {
     "data": {
      "text/html": [
       "<div>\n",
       "<style scoped>\n",
       "    .dataframe tbody tr th:only-of-type {\n",
       "        vertical-align: middle;\n",
       "    }\n",
       "\n",
       "    .dataframe tbody tr th {\n",
       "        vertical-align: top;\n",
       "    }\n",
       "\n",
       "    .dataframe thead th {\n",
       "        text-align: right;\n",
       "    }\n",
       "</style>\n",
       "<table border=\"1\" class=\"dataframe\">\n",
       "  <thead>\n",
       "    <tr style=\"text-align: right;\">\n",
       "      <th></th>\n",
       "      <th>age</th>\n",
       "      <th>job</th>\n",
       "      <th>marital</th>\n",
       "      <th>education</th>\n",
       "      <th>default</th>\n",
       "      <th>balance</th>\n",
       "      <th>housing</th>\n",
       "      <th>loan</th>\n",
       "      <th>contact</th>\n",
       "      <th>day</th>\n",
       "      <th>month</th>\n",
       "      <th>duration</th>\n",
       "      <th>campaign</th>\n",
       "      <th>pdays</th>\n",
       "      <th>previous</th>\n",
       "      <th>poutcome</th>\n",
       "      <th>y</th>\n",
       "    </tr>\n",
       "  </thead>\n",
       "  <tbody>\n",
       "    <tr>\n",
       "      <th>26846</th>\n",
       "      <td>56</td>\n",
       "      <td>technician</td>\n",
       "      <td>single</td>\n",
       "      <td>secondary</td>\n",
       "      <td>no</td>\n",
       "      <td>1437</td>\n",
       "      <td>yes</td>\n",
       "      <td>no</td>\n",
       "      <td>cellular</td>\n",
       "      <td>20</td>\n",
       "      <td>nov</td>\n",
       "      <td>367</td>\n",
       "      <td>8</td>\n",
       "      <td>-1</td>\n",
       "      <td>0</td>\n",
       "      <td>unknown</td>\n",
       "      <td>no</td>\n",
       "    </tr>\n",
       "    <tr>\n",
       "      <th>3661</th>\n",
       "      <td>31</td>\n",
       "      <td>White-collar</td>\n",
       "      <td>single</td>\n",
       "      <td>secondary</td>\n",
       "      <td>no</td>\n",
       "      <td>0</td>\n",
       "      <td>yes</td>\n",
       "      <td>no</td>\n",
       "      <td>unknown</td>\n",
       "      <td>16</td>\n",
       "      <td>may</td>\n",
       "      <td>28</td>\n",
       "      <td>4</td>\n",
       "      <td>-1</td>\n",
       "      <td>0</td>\n",
       "      <td>unknown</td>\n",
       "      <td>no</td>\n",
       "    </tr>\n",
       "  </tbody>\n",
       "</table>\n",
       "</div>"
      ],
      "text/plain": [
       "       age           job marital  education default  balance housing loan  \\\n",
       "26846   56    technician  single  secondary      no     1437     yes   no   \n",
       "3661    31  White-collar  single  secondary      no        0     yes   no   \n",
       "\n",
       "        contact  day month  duration  campaign  pdays  previous poutcome   y  \n",
       "26846  cellular   20   nov       367         8     -1         0  unknown  no  \n",
       "3661    unknown   16   may        28         4     -1         0  unknown  no  "
      ]
     },
     "execution_count": 26,
     "metadata": {},
     "output_type": "execute_result"
    }
   ],
   "source": [
    "bank.head(2)"
   ]
  },
  {
   "cell_type": "code",
   "execution_count": 27,
   "id": "c6769d83-e5bd-426b-ba24-b0696ece7f3d",
   "metadata": {},
   "outputs": [
    {
     "name": "stderr",
     "output_type": "stream",
     "text": [
      "C:\\Users\\manis\\AppData\\Local\\Temp\\ipykernel_11088\\1013378653.py:2: FutureWarning: Downcasting behavior in `replace` is deprecated and will be removed in a future version. To retain the old behavior, explicitly call `result.infer_objects(copy=False)`. To opt-in to the future behavior, set `pd.set_option('future.no_silent_downcasting', True)`\n",
      "  bank['y'] = bank['y'].replace({'no': 0, 'yes': 1}) # we replaced the \"no\" with '0' and \"yes\" with '1'\n"
     ]
    }
   ],
   "source": [
    "# we will convert the target variable into \"int\" datatype \n",
    "bank['y'] = bank['y'].replace({'no': 0, 'yes': 1}) # we replaced the \"no\" with '0' and \"yes\" with '1'"
   ]
  },
  {
   "cell_type": "code",
   "execution_count": 28,
   "id": "d74a7ed3-fcdd-4e39-a1a6-cf9d29d25a7a",
   "metadata": {},
   "outputs": [
    {
     "data": {
      "text/plain": [
       "y\n",
       "0    8827\n",
       "1    1173\n",
       "Name: count, dtype: int64"
      ]
     },
     "execution_count": 28,
     "metadata": {},
     "output_type": "execute_result"
    }
   ],
   "source": [
    "bank['y'].value_counts()"
   ]
  },
  {
   "cell_type": "code",
   "execution_count": 29,
   "id": "08b5b1f8-354f-4f7e-833d-d1a89e01bd59",
   "metadata": {},
   "outputs": [],
   "source": [
    "bank['poutcome'] = bank['poutcome'].replace(['unknown', 'other'], 'others')"
   ]
  },
  {
   "cell_type": "code",
   "execution_count": 30,
   "id": "6723989b-c79e-4034-8e92-896b6934bd5f",
   "metadata": {},
   "outputs": [
    {
     "data": {
      "text/plain": [
       "poutcome\n",
       "others     8610\n",
       "failure    1060\n",
       "success     330\n",
       "Name: count, dtype: int64"
      ]
     },
     "execution_count": 30,
     "metadata": {},
     "output_type": "execute_result"
    }
   ],
   "source": [
    "bank['poutcome'].value_counts()"
   ]
  },
  {
   "cell_type": "code",
   "execution_count": 31,
   "id": "1de40e0a-88ba-41ef-9d9d-aea94d96ee2a",
   "metadata": {},
   "outputs": [],
   "source": [
    "bank.loc[bank['pdays']==-1, 'pdays'] = 999\n",
    "bank['recent_pdays'] = 1/bank['pdays']\n",
    "bank.drop(columns = 'pdays', inplace = True)"
   ]
  },
  {
   "cell_type": "code",
   "execution_count": null,
   "id": "1bb5182a-115d-4d71-bd4f-5429778d23c5",
   "metadata": {},
   "outputs": [],
   "source": []
  },
  {
   "cell_type": "code",
   "execution_count": 32,
   "id": "48472dbd-5fa1-411f-a019-cd8894a83e00",
   "metadata": {},
   "outputs": [
    {
     "data": {
      "text/html": [
       "<div>\n",
       "<style scoped>\n",
       "    .dataframe tbody tr th:only-of-type {\n",
       "        vertical-align: middle;\n",
       "    }\n",
       "\n",
       "    .dataframe tbody tr th {\n",
       "        vertical-align: top;\n",
       "    }\n",
       "\n",
       "    .dataframe thead th {\n",
       "        text-align: right;\n",
       "    }\n",
       "</style>\n",
       "<table border=\"1\" class=\"dataframe\">\n",
       "  <thead>\n",
       "    <tr style=\"text-align: right;\">\n",
       "      <th></th>\n",
       "      <th>age</th>\n",
       "      <th>job</th>\n",
       "      <th>marital</th>\n",
       "      <th>education</th>\n",
       "      <th>default</th>\n",
       "      <th>balance</th>\n",
       "      <th>housing</th>\n",
       "      <th>loan</th>\n",
       "      <th>contact</th>\n",
       "      <th>day</th>\n",
       "      <th>month</th>\n",
       "      <th>duration</th>\n",
       "      <th>campaign</th>\n",
       "      <th>previous</th>\n",
       "      <th>poutcome</th>\n",
       "      <th>y</th>\n",
       "      <th>recent_pdays</th>\n",
       "    </tr>\n",
       "  </thead>\n",
       "  <tbody>\n",
       "    <tr>\n",
       "      <th>26846</th>\n",
       "      <td>56</td>\n",
       "      <td>technician</td>\n",
       "      <td>single</td>\n",
       "      <td>secondary</td>\n",
       "      <td>no</td>\n",
       "      <td>1437</td>\n",
       "      <td>yes</td>\n",
       "      <td>no</td>\n",
       "      <td>cellular</td>\n",
       "      <td>20</td>\n",
       "      <td>nov</td>\n",
       "      <td>367</td>\n",
       "      <td>8</td>\n",
       "      <td>0</td>\n",
       "      <td>others</td>\n",
       "      <td>0</td>\n",
       "      <td>0.001001</td>\n",
       "    </tr>\n",
       "    <tr>\n",
       "      <th>3661</th>\n",
       "      <td>31</td>\n",
       "      <td>White-collar</td>\n",
       "      <td>single</td>\n",
       "      <td>secondary</td>\n",
       "      <td>no</td>\n",
       "      <td>0</td>\n",
       "      <td>yes</td>\n",
       "      <td>no</td>\n",
       "      <td>unknown</td>\n",
       "      <td>16</td>\n",
       "      <td>may</td>\n",
       "      <td>28</td>\n",
       "      <td>4</td>\n",
       "      <td>0</td>\n",
       "      <td>others</td>\n",
       "      <td>0</td>\n",
       "      <td>0.001001</td>\n",
       "    </tr>\n",
       "  </tbody>\n",
       "</table>\n",
       "</div>"
      ],
      "text/plain": [
       "       age           job marital  education default  balance housing loan  \\\n",
       "26846   56    technician  single  secondary      no     1437     yes   no   \n",
       "3661    31  White-collar  single  secondary      no        0     yes   no   \n",
       "\n",
       "        contact  day month  duration  campaign  previous poutcome  y  \\\n",
       "26846  cellular   20   nov       367         8         0   others  0   \n",
       "3661    unknown   16   may        28         4         0   others  0   \n",
       "\n",
       "       recent_pdays  \n",
       "26846      0.001001  \n",
       "3661       0.001001  "
      ]
     },
     "execution_count": 32,
     "metadata": {},
     "output_type": "execute_result"
    }
   ],
   "source": [
    "bank.head(2)"
   ]
  },
  {
   "cell_type": "code",
   "execution_count": null,
   "id": "ff8c75a6-c55d-4766-9388-16278b619afc",
   "metadata": {},
   "outputs": [],
   "source": []
  },
  {
   "cell_type": "code",
   "execution_count": 33,
   "id": "0582dc77-0e65-4e50-be04-2becc47217ee",
   "metadata": {},
   "outputs": [
    {
     "data": {
      "text/plain": [
       "job          object\n",
       "marital      object\n",
       "education    object\n",
       "default      object\n",
       "housing      object\n",
       "loan         object\n",
       "contact      object\n",
       "month        object\n",
       "poutcome     object\n",
       "dtype: object"
      ]
     },
     "execution_count": 33,
     "metadata": {},
     "output_type": "execute_result"
    }
   ],
   "source": [
    "bank.dtypes[bank.dtypes == 'object']"
   ]
  },
  {
   "cell_type": "code",
   "execution_count": 34,
   "id": "49c5a083-f829-40ec-aea7-5259e56ffa92",
   "metadata": {},
   "outputs": [],
   "source": [
    "# we will create dummies for the 'object' datatype features\n",
    "bank1=pd.get_dummies(bank, columns=[\"job\", \"marital\",\"education\", \"default\", \"housing\",\"loan\", \"poutcome\", \"contact\",\"month\"],\n",
    "              drop_first=True, dtype=\"int\")"
   ]
  },
  {
   "cell_type": "code",
   "execution_count": 35,
   "id": "910d8487-7b20-4da9-815d-17d49a3446dc",
   "metadata": {},
   "outputs": [
    {
     "data": {
      "text/plain": [
       "(10000, 36)"
      ]
     },
     "execution_count": 35,
     "metadata": {},
     "output_type": "execute_result"
    }
   ],
   "source": [
    "bank1.shape"
   ]
  },
  {
   "cell_type": "code",
   "execution_count": 36,
   "id": "5d74f528-4e4d-4fd4-91de-7805fdff42fd",
   "metadata": {
    "scrolled": true
   },
   "outputs": [
    {
     "data": {
      "text/plain": [
       "age                      int64\n",
       "balance                  int64\n",
       "day                      int64\n",
       "duration                 int64\n",
       "campaign                 int64\n",
       "previous                 int64\n",
       "y                        int64\n",
       "recent_pdays           float64\n",
       "job_Pink-collar          int32\n",
       "job_White-collar         int32\n",
       "job_blue-collar          int32\n",
       "job_self-depend          int32\n",
       "job_technician           int32\n",
       "marital_married          int32\n",
       "marital_single           int32\n",
       "education_secondary      int32\n",
       "education_tertiary       int32\n",
       "education_unknown        int32\n",
       "default_yes              int32\n",
       "housing_yes              int32\n",
       "loan_yes                 int32\n",
       "poutcome_others          int32\n",
       "poutcome_success         int32\n",
       "contact_telephone        int32\n",
       "contact_unknown          int32\n",
       "month_aug                int32\n",
       "month_dec                int32\n",
       "month_feb                int32\n",
       "month_jan                int32\n",
       "month_jul                int32\n",
       "month_jun                int32\n",
       "month_mar                int32\n",
       "month_may                int32\n",
       "month_nov                int32\n",
       "month_oct                int32\n",
       "month_sep                int32\n",
       "dtype: object"
      ]
     },
     "execution_count": 36,
     "metadata": {},
     "output_type": "execute_result"
    }
   ],
   "source": [
    "bank1.dtypes"
   ]
  },
  {
   "cell_type": "code",
   "execution_count": 38,
   "id": "725b6be3-087a-4ac6-a107-a2126d63b20b",
   "metadata": {},
   "outputs": [
    {
     "data": {
      "image/png": "[encoded data removed]",
      "text/plain": [
       "<Figure size 800x600 with 2 Axes>"
      ]
     },
     "metadata": {},
     "output_type": "display_data"
    }
   ],
   "source": [
    "cr=bank[['age','balance', 'duration', 'campaign', 'previous', 'recent_pdays']].corr()\n",
    "plt.figure(figsize=(8,6))\n",
    "sns.heatmap(cr, cmap=\"coolwarm\", annot=True)\n",
    "plt.title('Correlation between Different features')\n",
    "plt.show()"
   ]
  },
  {
   "cell_type": "code",
   "execution_count": null,
   "id": "de065e7f-0323-4d91-af7e-1060c8894488",
   "metadata": {},
   "outputs": [],
   "source": []
  },
  {
   "cell_type": "code",
   "execution_count": null,
   "id": "b43900cf-6793-4833-bfe5-4962951998a3",
   "metadata": {},
   "outputs": [],
   "source": []
  },
  {
   "cell_type": "markdown",
   "id": "9d6afe2c-96ed-4c02-866f-e8f230e3ba1b",
   "metadata": {},
   "source": [
    "## Model Training"
   ]
  },
  {
   "cell_type": "code",
   "execution_count": 39,
   "id": "a75e43dc-96fd-4e4a-8ef3-42249b5f7cd0",
   "metadata": {},
   "outputs": [],
   "source": [
    "# setting the target variable \n",
    "x = bank1.drop(columns = 'y')\n",
    "y = bank1['y']"
   ]
  },
  {
   "cell_type": "code",
   "execution_count": 40,
   "id": "0629561e-5489-42cc-9c9f-98cd63cba0e4",
   "metadata": {},
   "outputs": [],
   "source": [
    "x_train, x_test, y_train, y_test = train_test_split(x, y, test_size = 0.2, random_state = 77)"
   ]
  },
  {
   "cell_type": "code",
   "execution_count": 41,
   "id": "60d9a7fe-651e-4727-8be2-4d700f322844",
   "metadata": {},
   "outputs": [
    {
     "data": {
      "text/html": [
       "<style>#sk-container-id-1 {color: black;background-color: white;}#sk-container-id-1 pre{padding: 0;}#sk-container-id-1 div.sk-toggleable {background-color: white;}#sk-container-id-1 label.sk-toggleable__label {cursor: pointer;display: block;width: 100%;margin-bottom: 0;padding: 0.3em;box-sizing: border-box;text-align: center;}#sk-container-id-1 label.sk-toggleable__label-arrow:before {content: \"▸\";float: left;margin-right: 0.25em;color: #696969;}#sk-container-id-1 label.sk-toggleable__label-arrow:hover:before {color: black;}#sk-container-id-1 div.sk-estimator:hover label.sk-toggleable__label-arrow:before {color: black;}#sk-container-id-1 div.sk-toggleable__content {max-height: 0;max-width: 0;overflow: hidden;text-align: left;background-color: #f0f8ff;}#sk-container-id-1 div.sk-toggleable__content pre {margin: 0.2em;color: black;border-radius: 0.25em;background-color: #f0f8ff;}#sk-container-id-1 input.sk-toggleable__control:checked~div.sk-toggleable__content {max-height: 200px;max-width: 100%;overflow: auto;}#sk-container-id-1 input.sk-toggleable__control:checked~label.sk-toggleable__label-arrow:before {content: \"▾\";}#sk-container-id-1 div.sk-estimator input.sk-toggleable__control:checked~label.sk-toggleable__label {background-color: #d4ebff;}#sk-container-id-1 div.sk-label input.sk-toggleable__control:checked~label.sk-toggleable__label {background-color: #d4ebff;}#sk-container-id-1 input.sk-hidden--visually {border: 0;clip: rect(1px 1px 1px 1px);clip: rect(1px, 1px, 1px, 1px);height: 1px;margin: -1px;overflow: hidden;padding: 0;position: absolute;width: 1px;}#sk-container-id-1 div.sk-estimator {font-family: monospace;background-color: #f0f8ff;border: 1px dotted black;border-radius: 0.25em;box-sizing: border-box;margin-bottom: 0.5em;}#sk-container-id-1 div.sk-estimator:hover {background-color: #d4ebff;}#sk-container-id-1 div.sk-parallel-item::after {content: \"\";width: 100%;border-bottom: 1px solid gray;flex-grow: 1;}#sk-container-id-1 div.sk-label:hover label.sk-toggleable__label {background-color: #d4ebff;}#sk-container-id-1 div.sk-serial::before {content: \"\";position: absolute;border-left: 1px solid gray;box-sizing: border-box;top: 0;bottom: 0;left: 50%;z-index: 0;}#sk-container-id-1 div.sk-serial {display: flex;flex-direction: column;align-items: center;background-color: white;padding-right: 0.2em;padding-left: 0.2em;position: relative;}#sk-container-id-1 div.sk-item {position: relative;z-index: 1;}#sk-container-id-1 div.sk-parallel {display: flex;align-items: stretch;justify-content: center;background-color: white;position: relative;}#sk-container-id-1 div.sk-item::before, #sk-container-id-1 div.sk-parallel-item::before {content: \"\";position: absolute;border-left: 1px solid gray;box-sizing: border-box;top: 0;bottom: 0;left: 50%;z-index: -1;}#sk-container-id-1 div.sk-parallel-item {display: flex;flex-direction: column;z-index: 1;position: relative;background-color: white;}#sk-container-id-1 div.sk-parallel-item:first-child::after {align-self: flex-end;width: 50%;}#sk-container-id-1 div.sk-parallel-item:last-child::after {align-self: flex-start;width: 50%;}#sk-container-id-1 div.sk-parallel-item:only-child::after {width: 0;}#sk-container-id-1 div.sk-dashed-wrapped {border: 1px dashed gray;margin: 0 0.4em 0.5em 0.4em;box-sizing: border-box;padding-bottom: 0.4em;background-color: white;}#sk-container-id-1 div.sk-label label {font-family: monospace;font-weight: bold;display: inline-block;line-height: 1.2em;}#sk-container-id-1 div.sk-label-container {text-align: center;}#sk-container-id-1 div.sk-container {/* jupyter's `normalize.less` sets `[hidden] { display: none; }` but bootstrap.min.css set `[hidden] { display: none !important; }` so we also need the `!important` here to be able to override the default hidden behavior on the sphinx rendered scikit-learn.org. See: https://github.com/scikit-learn/scikit-learn/issues/21755 */display: inline-block !important;position: relative;}#sk-container-id-1 div.sk-text-repr-fallback {display: none;}</style><div id=\"sk-container-id-1\" class=\"sk-top-container\"><div class=\"sk-text-repr-fallback\"><pre>DecisionTreeClassifier()</pre><b>In a Jupyter environment, please rerun this cell to show the HTML representation or trust the notebook. <br />On GitHub, the HTML representation is unable to render, please try loading this page with nbviewer.org.</b></div><div class=\"sk-container\" hidden><div class=\"sk-item\"><div class=\"sk-estimator sk-toggleable\"><input class=\"sk-toggleable__control sk-hidden--visually\" id=\"sk-estimator-id-1\" type=\"checkbox\" checked><label for=\"sk-estimator-id-1\" class=\"sk-toggleable__label sk-toggleable__label-arrow\">DecisionTreeClassifier</label><div class=\"sk-toggleable__content\"><pre>DecisionTreeClassifier()</pre></div></div></div></div></div>"
      ],
      "text/plain": [
       "DecisionTreeClassifier()"
      ]
     },
     "execution_count": 41,
     "metadata": {},
     "output_type": "execute_result"
    }
   ],
   "source": [
    "dt1 = DecisionTreeClassifier()\n",
    "dt1.fit(x_train, y_train)"
   ]
  },
  {
   "cell_type": "code",
   "execution_count": 42,
   "id": "c1a084c7-680f-4dc1-9f45-b6190472fa0b",
   "metadata": {},
   "outputs": [
    {
     "name": "stdout",
     "output_type": "stream",
     "text": [
      "Train Score: 1.0\n",
      "Test Score: 0.867\n"
     ]
    }
   ],
   "source": [
    "#testing the accuracy of model on the train and test dataset\n",
    "print('Train Score:', dt1.score(x_train, y_train))\n",
    "print('Test Score:' , dt1.score(x_test, y_test))"
   ]
  },
  {
   "cell_type": "code",
   "execution_count": 43,
   "id": "010eda46-d06a-4b5a-baba-d1a327b6ad7d",
   "metadata": {},
   "outputs": [
    {
     "name": "stdout",
     "output_type": "stream",
     "text": [
      "Train score : 0.894875\n",
      "Test score : 0.888\n"
     ]
    }
   ],
   "source": [
    "# randomly deciding parameters and analyzing the result\n",
    "dt2=DecisionTreeClassifier(max_depth=10, random_state=77, min_samples_split=150, min_samples_leaf=150)\n",
    "dt2.fit(x_train, y_train)\n",
    "print(\"Train score :\", dt2.score(x_train, y_train))\n",
    "print(\"Test score :\", dt2.score(x_test, y_test))"
   ]
  },
  {
   "cell_type": "code",
   "execution_count": 63,
   "id": "d72c8884-61ac-4d09-8439-76bae03227be",
   "metadata": {},
   "outputs": [
    {
     "name": "stderr",
     "output_type": "stream",
     "text": [
      "C:\\Users\\manis\\anaconda3\\Lib\\site-packages\\sklearn\\tree\\_classes.py:269: FutureWarning: `max_features='auto'` has been deprecated in 1.1 and will be removed in 1.3. To keep the past behaviour, explicitly set `max_features='sqrt'`.\n",
      "  warnings.warn(\n"
     ]
    },
    {
     "data": {
      "text/html": [
       "<style>#sk-container-id-3 {color: black;background-color: white;}#sk-container-id-3 pre{padding: 0;}#sk-container-id-3 div.sk-toggleable {background-color: white;}#sk-container-id-3 label.sk-toggleable__label {cursor: pointer;display: block;width: 100%;margin-bottom: 0;padding: 0.3em;box-sizing: border-box;text-align: center;}#sk-container-id-3 label.sk-toggleable__label-arrow:before {content: \"▸\";float: left;margin-right: 0.25em;color: #696969;}#sk-container-id-3 label.sk-toggleable__label-arrow:hover:before {color: black;}#sk-container-id-3 div.sk-estimator:hover label.sk-toggleable__label-arrow:before {color: black;}#sk-container-id-3 div.sk-toggleable__content {max-height: 0;max-width: 0;overflow: hidden;text-align: left;background-color: #f0f8ff;}#sk-container-id-3 div.sk-toggleable__content pre {margin: 0.2em;color: black;border-radius: 0.25em;background-color: #f0f8ff;}#sk-container-id-3 input.sk-toggleable__control:checked~div.sk-toggleable__content {max-height: 200px;max-width: 100%;overflow: auto;}#sk-container-id-3 input.sk-toggleable__control:checked~label.sk-toggleable__label-arrow:before {content: \"▾\";}#sk-container-id-3 div.sk-estimator input.sk-toggleable__control:checked~label.sk-toggleable__label {background-color: #d4ebff;}#sk-container-id-3 div.sk-label input.sk-toggleable__control:checked~label.sk-toggleable__label {background-color: #d4ebff;}#sk-container-id-3 input.sk-hidden--visually {border: 0;clip: rect(1px 1px 1px 1px);clip: rect(1px, 1px, 1px, 1px);height: 1px;margin: -1px;overflow: hidden;padding: 0;position: absolute;width: 1px;}#sk-container-id-3 div.sk-estimator {font-family: monospace;background-color: #f0f8ff;border: 1px dotted black;border-radius: 0.25em;box-sizing: border-box;margin-bottom: 0.5em;}#sk-container-id-3 div.sk-estimator:hover {background-color: #d4ebff;}#sk-container-id-3 div.sk-parallel-item::after {content: \"\";width: 100%;border-bottom: 1px solid gray;flex-grow: 1;}#sk-container-id-3 div.sk-label:hover label.sk-toggleable__label {background-color: #d4ebff;}#sk-container-id-3 div.sk-serial::before {content: \"\";position: absolute;border-left: 1px solid gray;box-sizing: border-box;top: 0;bottom: 0;left: 50%;z-index: 0;}#sk-container-id-3 div.sk-serial {display: flex;flex-direction: column;align-items: center;background-color: white;padding-right: 0.2em;padding-left: 0.2em;position: relative;}#sk-container-id-3 div.sk-item {position: relative;z-index: 1;}#sk-container-id-3 div.sk-parallel {display: flex;align-items: stretch;justify-content: center;background-color: white;position: relative;}#sk-container-id-3 div.sk-item::before, #sk-container-id-3 div.sk-parallel-item::before {content: \"\";position: absolute;border-left: 1px solid gray;box-sizing: border-box;top: 0;bottom: 0;left: 50%;z-index: -1;}#sk-container-id-3 div.sk-parallel-item {display: flex;flex-direction: column;z-index: 1;position: relative;background-color: white;}#sk-container-id-3 div.sk-parallel-item:first-child::after {align-self: flex-end;width: 50%;}#sk-container-id-3 div.sk-parallel-item:last-child::after {align-self: flex-start;width: 50%;}#sk-container-id-3 div.sk-parallel-item:only-child::after {width: 0;}#sk-container-id-3 div.sk-dashed-wrapped {border: 1px dashed gray;margin: 0 0.4em 0.5em 0.4em;box-sizing: border-box;padding-bottom: 0.4em;background-color: white;}#sk-container-id-3 div.sk-label label {font-family: monospace;font-weight: bold;display: inline-block;line-height: 1.2em;}#sk-container-id-3 div.sk-label-container {text-align: center;}#sk-container-id-3 div.sk-container {/* jupyter's `normalize.less` sets `[hidden] { display: none; }` but bootstrap.min.css set `[hidden] { display: none !important; }` so we also need the `!important` here to be able to override the default hidden behavior on the sphinx rendered scikit-learn.org. See: https://github.com/scikit-learn/scikit-learn/issues/21755 */display: inline-block !important;position: relative;}#sk-container-id-3 div.sk-text-repr-fallback {display: none;}</style><div id=\"sk-container-id-3\" class=\"sk-top-container\"><div class=\"sk-text-repr-fallback\"><pre>GridSearchCV(cv=10, estimator=DecisionTreeClassifier(random_state=55),\n",
       "             n_jobs=-1,\n",
       "             param_grid={&#x27;criterion&#x27;: (&#x27;gini&#x27;, &#x27;entropy&#x27;),\n",
       "                         &#x27;max_depth&#x27;: [5, 7, 10, 12],\n",
       "                         &#x27;max_features&#x27;: [&#x27;auto&#x27;, &#x27;log2&#x27;, &#x27;sqrt&#x27;],\n",
       "                         &#x27;min_samples_leaf&#x27;: [5, 7, 10, 15, 20, 25],\n",
       "                         &#x27;min_samples_split&#x27;: [10, 20, 30, 50]},\n",
       "             scoring=&#x27;recall&#x27;)</pre><b>In a Jupyter environment, please rerun this cell to show the HTML representation or trust the notebook. <br />On GitHub, the HTML representation is unable to render, please try loading this page with nbviewer.org.</b></div><div class=\"sk-container\" hidden><div class=\"sk-item sk-dashed-wrapped\"><div class=\"sk-label-container\"><div class=\"sk-label sk-toggleable\"><input class=\"sk-toggleable__control sk-hidden--visually\" id=\"sk-estimator-id-5\" type=\"checkbox\" ><label for=\"sk-estimator-id-5\" class=\"sk-toggleable__label sk-toggleable__label-arrow\">GridSearchCV</label><div class=\"sk-toggleable__content\"><pre>GridSearchCV(cv=10, estimator=DecisionTreeClassifier(random_state=55),\n",
       "             n_jobs=-1,\n",
       "             param_grid={&#x27;criterion&#x27;: (&#x27;gini&#x27;, &#x27;entropy&#x27;),\n",
       "                         &#x27;max_depth&#x27;: [5, 7, 10, 12],\n",
       "                         &#x27;max_features&#x27;: [&#x27;auto&#x27;, &#x27;log2&#x27;, &#x27;sqrt&#x27;],\n",
       "                         &#x27;min_samples_leaf&#x27;: [5, 7, 10, 15, 20, 25],\n",
       "                         &#x27;min_samples_split&#x27;: [10, 20, 30, 50]},\n",
       "             scoring=&#x27;recall&#x27;)</pre></div></div></div><div class=\"sk-parallel\"><div class=\"sk-parallel-item\"><div class=\"sk-item\"><div class=\"sk-label-container\"><div class=\"sk-label sk-toggleable\"><input class=\"sk-toggleable__control sk-hidden--visually\" id=\"sk-estimator-id-6\" type=\"checkbox\" ><label for=\"sk-estimator-id-6\" class=\"sk-toggleable__label sk-toggleable__label-arrow\">estimator: DecisionTreeClassifier</label><div class=\"sk-toggleable__content\"><pre>DecisionTreeClassifier(random_state=55)</pre></div></div></div><div class=\"sk-serial\"><div class=\"sk-item\"><div class=\"sk-estimator sk-toggleable\"><input class=\"sk-toggleable__control sk-hidden--visually\" id=\"sk-estimator-id-7\" type=\"checkbox\" ><label for=\"sk-estimator-id-7\" class=\"sk-toggleable__label sk-toggleable__label-arrow\">DecisionTreeClassifier</label><div class=\"sk-toggleable__content\"><pre>DecisionTreeClassifier(random_state=55)</pre></div></div></div></div></div></div></div></div></div></div>"
      ],
      "text/plain": [
       "GridSearchCV(cv=10, estimator=DecisionTreeClassifier(random_state=55),\n",
       "             n_jobs=-1,\n",
       "             param_grid={'criterion': ('gini', 'entropy'),\n",
       "                         'max_depth': [5, 7, 10, 12],\n",
       "                         'max_features': ['auto', 'log2', 'sqrt'],\n",
       "                         'min_samples_leaf': [5, 7, 10, 15, 20, 25],\n",
       "                         'min_samples_split': [10, 20, 30, 50]},\n",
       "             scoring='recall')"
      ]
     },
     "execution_count": 63,
     "metadata": {},
     "output_type": "execute_result"
    }
   ],
   "source": [
    "# now we will run the gridsearch to find the best parameters\n",
    "parameters = {'criterion':('gini', 'entropy'),\n",
    "              'min_samples_split':[10,20, 30, 50],\n",
    "              'max_depth':[5, 7,10, 12],\n",
    "              \"min_samples_leaf\":[5,7, 10, 15, 20, 25],\n",
    "              \"max_features\":[\"auto\", \"log2\", \"sqrt\"]\n",
    "             }\n",
    "dt3 = DecisionTreeClassifier(random_state=55)\n",
    "gsearch = GridSearchCV(estimator=dt3, param_grid=parameters, cv=10,  n_jobs=-1, scoring='recall')\n",
    "\n",
    "gsearch.fit(x_train, y_train)"
   ]
  },
  {
   "cell_type": "code",
   "execution_count": 64,
   "id": "128baa90-aa07-444b-9a6a-b7a459558bd7",
   "metadata": {},
   "outputs": [
    {
     "data": {
      "text/plain": [
       "{'criterion': 'gini',\n",
       " 'max_depth': 10,\n",
       " 'max_features': 'auto',\n",
       " 'min_samples_leaf': 10,\n",
       " 'min_samples_split': 50}"
      ]
     },
     "execution_count": 64,
     "metadata": {},
     "output_type": "execute_result"
    }
   ],
   "source": [
    "gsearch.best_params_"
   ]
  },
  {
   "cell_type": "code",
   "execution_count": 295,
   "id": "0d896a6d-6052-4df4-9da5-afd5da27a479",
   "metadata": {},
   "outputs": [
    {
     "data": {
      "text/plain": [
       "0.39019401589527825"
      ]
     },
     "execution_count": 295,
     "metadata": {},
     "output_type": "execute_result"
    }
   ],
   "source": [
    "gsearch.best_score_"
   ]
  },
  {
   "cell_type": "code",
   "execution_count": 65,
   "id": "2a40b890-1d97-4274-b1cb-6594d1d7f209",
   "metadata": {},
   "outputs": [
    {
     "name": "stdout",
     "output_type": "stream",
     "text": [
      "Train accuracy: 0.901375\n",
      "Test accuracy: 0.883\n"
     ]
    },
    {
     "name": "stderr",
     "output_type": "stream",
     "text": [
      "C:\\Users\\manis\\anaconda3\\Lib\\site-packages\\sklearn\\tree\\_classes.py:269: FutureWarning: `max_features='auto'` has been deprecated in 1.1 and will be removed in 1.3. To keep the past behaviour, explicitly set `max_features='sqrt'`.\n",
      "  warnings.warn(\n"
     ]
    }
   ],
   "source": [
    "dt3=DecisionTreeClassifier(max_depth=10,\n",
    "                           criterion=\"gini\",\n",
    "                           min_samples_split=50,\n",
    "                            min_samples_leaf= 10,\n",
    "                          max_features= 'auto')\n",
    "dt3.fit(x_train, y_train)\n",
    "\n",
    "print(\"Train accuracy:\", dt3.score(x_train,y_train))\n",
    "\n",
    "print(\"Test accuracy:\", dt3.score(x_test,y_test))"
   ]
  },
  {
   "cell_type": "code",
   "execution_count": 66,
   "id": "7f2f31c1-c414-44ac-b727-867fb6b23fb6",
   "metadata": {},
   "outputs": [
    {
     "data": {
      "text/plain": [
       "Index(['age', 'balance', 'day', 'duration', 'campaign', 'previous',\n",
       "       'recent_pdays', 'job_Pink-collar', 'job_White-collar',\n",
       "       'job_blue-collar', 'job_self-depend', 'job_technician',\n",
       "       'marital_married', 'marital_single', 'education_secondary',\n",
       "       'education_tertiary', 'education_unknown', 'default_yes', 'housing_yes',\n",
       "       'loan_yes', 'poutcome_others', 'poutcome_success', 'contact_telephone',\n",
       "       'contact_unknown', 'month_aug', 'month_dec', 'month_feb', 'month_jan',\n",
       "       'month_jul', 'month_jun', 'month_mar', 'month_may', 'month_nov',\n",
       "       'month_oct', 'month_sep'],\n",
       "      dtype='object')"
      ]
     },
     "execution_count": 66,
     "metadata": {},
     "output_type": "execute_result"
    }
   ],
   "source": [
    "x_train.columns"
   ]
  },
  {
   "cell_type": "code",
   "execution_count": 67,
   "id": "f364b80e-6d70-4641-866e-fd20b6862eb0",
   "metadata": {},
   "outputs": [
    {
     "data": {
      "text/plain": [
       "array([7.07159402e-02, 1.20892903e-02, 7.25722734e-03, 4.59946632e-01,\n",
       "       1.27721311e-02, 5.33529587e-03, 1.10519381e-01, 1.22168472e-03,\n",
       "       2.05635539e-03, 1.36173219e-03, 0.00000000e+00, 5.56419482e-03,\n",
       "       9.47894520e-03, 6.55657693e-03, 1.58359742e-04, 3.59752022e-04,\n",
       "       0.00000000e+00, 0.00000000e+00, 3.94691016e-02, 1.79641422e-02,\n",
       "       1.23773964e-03, 9.29074088e-02, 5.93291427e-04, 8.91008321e-03,\n",
       "       1.76610412e-03, 9.15122162e-03, 3.08009620e-05, 1.18660371e-03,\n",
       "       0.00000000e+00, 0.00000000e+00, 4.37175842e-02, 1.80113828e-02,\n",
       "       6.91085688e-03, 5.27501797e-02, 0.00000000e+00])"
      ]
     },
     "execution_count": 67,
     "metadata": {},
     "output_type": "execute_result"
    }
   ],
   "source": [
    "# Checking Importance of variable so we can select best features\n",
    "dt3.feature_importances_ "
   ]
  },
  {
   "cell_type": "code",
   "execution_count": 68,
   "id": "c0719719-2d44-4057-a629-78cd732aadb5",
   "metadata": {},
   "outputs": [
    {
     "data": {
      "text/plain": [
       "array(['duration', 'recent_pdays', 'poutcome_success', 'age', 'month_oct',\n",
       "       'month_mar', 'housing_yes'], dtype=object)"
      ]
     },
     "execution_count": 68,
     "metadata": {},
     "output_type": "execute_result"
    }
   ],
   "source": [
    "# Filtering out the best features\n",
    "Feat_imp=pd.DataFrame({\"Features\":x_train.columns, \"imp\":dt3.feature_importances_}).sort_values(by=[\"imp\"],ascending=False)\n",
    "Feat_imp[Feat_imp[\"imp\"]>=0.02][\"Features\"].values"
   ]
  },
  {
   "cell_type": "code",
   "execution_count": 70,
   "id": "bea43659-73cc-4659-9017-ace00a8deadd",
   "metadata": {},
   "outputs": [],
   "source": [
    "x_train1 = x_train[['duration', 'recent_pdays', 'poutcome_success', 'age', 'month_oct',\n",
    "       'month_mar', 'housing_yes']]\n",
    "x_test1 = x_test[['duration', 'recent_pdays', 'poutcome_success', 'age', 'month_oct',\n",
    "       'month_mar', 'housing_yes']]"
   ]
  },
  {
   "cell_type": "code",
   "execution_count": 71,
   "id": "88b2eb61-8093-4b32-9b7f-3b4d66f2a43a",
   "metadata": {},
   "outputs": [
    {
     "name": "stdout",
     "output_type": "stream",
     "text": [
      "Train accuracy: 0.90575\n",
      "Test accuracy: 0.8965\n"
     ]
    },
    {
     "name": "stderr",
     "output_type": "stream",
     "text": [
      "C:\\Users\\manis\\anaconda3\\Lib\\site-packages\\sklearn\\tree\\_classes.py:269: FutureWarning: `max_features='auto'` has been deprecated in 1.1 and will be removed in 1.3. To keep the past behaviour, explicitly set `max_features='sqrt'`.\n",
      "  warnings.warn(\n"
     ]
    }
   ],
   "source": [
    "dt4=DecisionTreeClassifier(max_depth=10,\n",
    "                           criterion=\"gini\",\n",
    "                           min_samples_split=50,\n",
    "                            min_samples_leaf= 10,\n",
    "                          max_features= 'auto')\n",
    "dt4.fit(x_train1, y_train)\n",
    "\n",
    "print(\"Train accuracy:\", dt4.score(x_train1,y_train))\n",
    "\n",
    "print(\"Test accuracy:\", dt4.score(x_test1,y_test))"
   ]
  },
  {
   "cell_type": "code",
   "execution_count": null,
   "id": "8f13145e-390e-406b-8d98-6d2cf3fe3236",
   "metadata": {},
   "outputs": [],
   "source": []
  },
  {
   "cell_type": "markdown",
   "id": "70d7b81e-1109-40af-9144-2392bc8935a8",
   "metadata": {},
   "source": [
    "## Evaluation of Model"
   ]
  },
  {
   "cell_type": "code",
   "execution_count": 72,
   "id": "9496ad1b-a625-42c0-aafe-c4bb62ac491b",
   "metadata": {},
   "outputs": [],
   "source": [
    "\n",
    "pred_train=dt4.predict(x_train1)   \n",
    "pred_test=dt4.predict(x_test1)"
   ]
  },
  {
   "cell_type": "code",
   "execution_count": 73,
   "id": "516a5984-89fc-43f4-b077-63b7e8304b10",
   "metadata": {},
   "outputs": [
    {
     "data": {
      "text/html": [
       "<div>\n",
       "<style scoped>\n",
       "    .dataframe tbody tr th:only-of-type {\n",
       "        vertical-align: middle;\n",
       "    }\n",
       "\n",
       "    .dataframe tbody tr th {\n",
       "        vertical-align: top;\n",
       "    }\n",
       "\n",
       "    .dataframe thead th {\n",
       "        text-align: right;\n",
       "    }\n",
       "</style>\n",
       "<table border=\"1\" class=\"dataframe\">\n",
       "  <thead>\n",
       "    <tr style=\"text-align: right;\">\n",
       "      <th></th>\n",
       "      <th>pred0</th>\n",
       "      <th>pred1</th>\n",
       "    </tr>\n",
       "  </thead>\n",
       "  <tbody>\n",
       "    <tr>\n",
       "      <th>Act0</th>\n",
       "      <td>6856</td>\n",
       "      <td>221</td>\n",
       "    </tr>\n",
       "    <tr>\n",
       "      <th>Act1</th>\n",
       "      <td>533</td>\n",
       "      <td>390</td>\n",
       "    </tr>\n",
       "  </tbody>\n",
       "</table>\n",
       "</div>"
      ],
      "text/plain": [
       "      pred0  pred1\n",
       "Act0   6856    221\n",
       "Act1    533    390"
      ]
     },
     "execution_count": 73,
     "metadata": {},
     "output_type": "execute_result"
    }
   ],
   "source": [
    "# creating the confusion matrix for the train dataset\n",
    "pd.DataFrame(metrics.confusion_matrix(y_train, pred_train), index=[\"Act0\", \"Act1\"], columns=[\"pred0\", \"pred1\"])"
   ]
  },
  {
   "cell_type": "code",
   "execution_count": 74,
   "id": "4c613af9-4ca6-4c8a-a18d-185c9b16e79d",
   "metadata": {},
   "outputs": [
    {
     "data": {
      "text/html": [
       "<div>\n",
       "<style scoped>\n",
       "    .dataframe tbody tr th:only-of-type {\n",
       "        vertical-align: middle;\n",
       "    }\n",
       "\n",
       "    .dataframe tbody tr th {\n",
       "        vertical-align: top;\n",
       "    }\n",
       "\n",
       "    .dataframe thead th {\n",
       "        text-align: right;\n",
       "    }\n",
       "</style>\n",
       "<table border=\"1\" class=\"dataframe\">\n",
       "  <thead>\n",
       "    <tr style=\"text-align: right;\">\n",
       "      <th></th>\n",
       "      <th>pred0</th>\n",
       "      <th>pred1</th>\n",
       "    </tr>\n",
       "  </thead>\n",
       "  <tbody>\n",
       "    <tr>\n",
       "      <th>Act0</th>\n",
       "      <td>1684</td>\n",
       "      <td>66</td>\n",
       "    </tr>\n",
       "    <tr>\n",
       "      <th>Act1</th>\n",
       "      <td>141</td>\n",
       "      <td>109</td>\n",
       "    </tr>\n",
       "  </tbody>\n",
       "</table>\n",
       "</div>"
      ],
      "text/plain": [
       "      pred0  pred1\n",
       "Act0   1684     66\n",
       "Act1    141    109"
      ]
     },
     "execution_count": 74,
     "metadata": {},
     "output_type": "execute_result"
    }
   ],
   "source": [
    "# creating the confusion matrix for the test dataset\n",
    "pd.DataFrame(metrics.confusion_matrix(y_test, pred_test), index=[\"Act0\", \"Act1\"], columns=[\"pred0\", \"pred1\"])"
   ]
  },
  {
   "cell_type": "code",
   "execution_count": 75,
   "id": "9c3dcf23-42ba-4bf6-88f9-4778ded31aea",
   "metadata": {},
   "outputs": [
    {
     "name": "stdout",
     "output_type": "stream",
     "text": [
      "              precision    recall  f1-score   support\n",
      "\n",
      "           0       0.93      0.97      0.95      7077\n",
      "           1       0.64      0.42      0.51       923\n",
      "\n",
      "    accuracy                           0.91      8000\n",
      "   macro avg       0.78      0.70      0.73      8000\n",
      "weighted avg       0.89      0.91      0.90      8000\n",
      "\n"
     ]
    }
   ],
   "source": [
    "print(metrics.classification_report(y_train, pred_train))"
   ]
  },
  {
   "cell_type": "code",
   "execution_count": 76,
   "id": "28ee12ef-806e-4adc-9885-231781831e27",
   "metadata": {},
   "outputs": [
    {
     "name": "stdout",
     "output_type": "stream",
     "text": [
      "              precision    recall  f1-score   support\n",
      "\n",
      "           0       0.92      0.96      0.94      1750\n",
      "           1       0.62      0.44      0.51       250\n",
      "\n",
      "    accuracy                           0.90      2000\n",
      "   macro avg       0.77      0.70      0.73      2000\n",
      "weighted avg       0.89      0.90      0.89      2000\n",
      "\n"
     ]
    }
   ],
   "source": [
    "print(metrics.classification_report(y_test, pred_test))"
   ]
  },
  {
   "cell_type": "code",
   "execution_count": 77,
   "id": "5bffdd6f-f7b7-4476-89f5-035d776775ee",
   "metadata": {},
   "outputs": [
    {
     "data": {
      "text/html": [
       "<div>\n",
       "<style scoped>\n",
       "    .dataframe tbody tr th:only-of-type {\n",
       "        vertical-align: middle;\n",
       "    }\n",
       "\n",
       "    .dataframe tbody tr th {\n",
       "        vertical-align: top;\n",
       "    }\n",
       "\n",
       "    .dataframe thead th {\n",
       "        text-align: right;\n",
       "    }\n",
       "</style>\n",
       "<table border=\"1\" class=\"dataframe\">\n",
       "  <thead>\n",
       "    <tr style=\"text-align: right;\">\n",
       "      <th></th>\n",
       "      <th>Prob0</th>\n",
       "      <th>Prob1</th>\n",
       "    </tr>\n",
       "  </thead>\n",
       "  <tbody>\n",
       "    <tr>\n",
       "      <th>0</th>\n",
       "      <td>0.964888</td>\n",
       "      <td>0.035112</td>\n",
       "    </tr>\n",
       "    <tr>\n",
       "      <th>1</th>\n",
       "      <td>0.964888</td>\n",
       "      <td>0.035112</td>\n",
       "    </tr>\n",
       "    <tr>\n",
       "      <th>2</th>\n",
       "      <td>0.955684</td>\n",
       "      <td>0.044316</td>\n",
       "    </tr>\n",
       "    <tr>\n",
       "      <th>3</th>\n",
       "      <td>0.892473</td>\n",
       "      <td>0.107527</td>\n",
       "    </tr>\n",
       "    <tr>\n",
       "      <th>4</th>\n",
       "      <td>0.978081</td>\n",
       "      <td>0.021919</td>\n",
       "    </tr>\n",
       "    <tr>\n",
       "      <th>...</th>\n",
       "      <td>...</td>\n",
       "      <td>...</td>\n",
       "    </tr>\n",
       "    <tr>\n",
       "      <th>7995</th>\n",
       "      <td>0.955684</td>\n",
       "      <td>0.044316</td>\n",
       "    </tr>\n",
       "    <tr>\n",
       "      <th>7996</th>\n",
       "      <td>0.978081</td>\n",
       "      <td>0.021919</td>\n",
       "    </tr>\n",
       "    <tr>\n",
       "      <th>7997</th>\n",
       "      <td>0.978081</td>\n",
       "      <td>0.021919</td>\n",
       "    </tr>\n",
       "    <tr>\n",
       "      <th>7998</th>\n",
       "      <td>1.000000</td>\n",
       "      <td>0.000000</td>\n",
       "    </tr>\n",
       "    <tr>\n",
       "      <th>7999</th>\n",
       "      <td>1.000000</td>\n",
       "      <td>0.000000</td>\n",
       "    </tr>\n",
       "  </tbody>\n",
       "</table>\n",
       "<p>8000 rows × 2 columns</p>\n",
       "</div>"
      ],
      "text/plain": [
       "         Prob0     Prob1\n",
       "0     0.964888  0.035112\n",
       "1     0.964888  0.035112\n",
       "2     0.955684  0.044316\n",
       "3     0.892473  0.107527\n",
       "4     0.978081  0.021919\n",
       "...        ...       ...\n",
       "7995  0.955684  0.044316\n",
       "7996  0.978081  0.021919\n",
       "7997  0.978081  0.021919\n",
       "7998  1.000000  0.000000\n",
       "7999  1.000000  0.000000\n",
       "\n",
       "[8000 rows x 2 columns]"
      ]
     },
     "execution_count": 77,
     "metadata": {},
     "output_type": "execute_result"
    }
   ],
   "source": [
    "prob_train=pd.DataFrame(dt4.predict_proba(x_train1), columns=[\"Prob0\", \"Prob1\"])\n",
    "prob_train"
   ]
  },
  {
   "cell_type": "code",
   "execution_count": 78,
   "id": "8f1f8b3e-1413-4a6e-aa6a-17484d220e6e",
   "metadata": {},
   "outputs": [
    {
     "data": {
      "text/plain": [
       "array([0.03511236, 0.03511236, 0.04431599, ..., 0.02191943, 0.        ,\n",
       "       0.        ])"
      ]
     },
     "execution_count": 78,
     "metadata": {},
     "output_type": "execute_result"
    }
   ],
   "source": [
    "dt4.predict_proba(x_train1)[:,1] "
   ]
  },
  {
   "cell_type": "code",
   "execution_count": 79,
   "id": "d1e2756c-bd31-4b28-973a-845d9e533409",
   "metadata": {},
   "outputs": [
    {
     "data": {
      "image/png": "[encoded data removed]",
      "text/plain": [
       "<Figure size 640x480 with 1 Axes>"
      ]
     },
     "metadata": {},
     "output_type": "display_data"
    }
   ],
   "source": [
    "probs=dt4.predict_proba(x_train1)[:,1]\n",
    "auc=metrics.roc_auc_score(y_train,probs)\n",
    "fpr, tpr, threshold=metrics.roc_curve(y_train,probs )\n",
    "plt.plot([0,1],[0,1],'k--')\n",
    "plt.plot(fpr,tpr, label=f'Decision Tree Auc '+str(auc))\n",
    "plt.xlabel('fpr')\n",
    "plt.ylabel('tpr')\n",
    "plt.legend()\n",
    "plt.show()"
   ]
  },
  {
   "cell_type": "markdown",
   "id": "6eeead23-8240-47f0-bab3-a792a7e0964e",
   "metadata": {},
   "source": [
    "# Thank You"
   ]
  },
  {
   "cell_type": "code",
   "execution_count": null,
   "id": "a00a68ea-9f0f-4849-94ad-de90fca24252",
   "metadata": {},
   "outputs": [],
   "source": []
  }
 ],
 "metadata": {
  "kernelspec": {
   "display_name": "Python 3 (ipykernel)",
   "language": "python",
   "name": "python3"
  },
  "language_info": {
   "codemirror_mode": {
    "name": "ipython",
    "version": 3
   },
   "file_extension": ".py",
   "mimetype": "text/x-python",
   "name": "python",
   "nbconvert_exporter": "python",
   "pygments_lexer": "ipython3",
   "version": "3.11.7"
  }
 },
 "nbformat": 4,
 "nbformat_minor": 5
}
